{
 "cells": [
  {
   "cell_type": "markdown",
   "metadata": {},
   "source": [
    "# WorldHappiness"
   ]
  },
  {
   "cell_type": "markdown",
   "metadata": {},
   "source": [
    "Merupakan laporan yang mengukur tingkat kebahagiaan penduduk disuatu negara. Laporan ini pertama kali diterbitkan tahun 2012. Dataset yang digunakan untuk soal ini merupakan tahun 2019 dan untuk soalnya sendiri berasal dari https://github.com/LintangWisesa/Ujian_AnalyticsVisualization_JCDS08."
   ]
  },
  {
   "cell_type": "markdown",
   "metadata": {},
   "source": [
    "Import Dataset dan Library"
   ]
  },
  {
   "cell_type": "code",
   "execution_count": 1,
   "metadata": {},
   "outputs": [
    {
     "data": {
      "text/html": [
       "<div>\n",
       "<style scoped>\n",
       "    .dataframe tbody tr th:only-of-type {\n",
       "        vertical-align: middle;\n",
       "    }\n",
       "\n",
       "    .dataframe tbody tr th {\n",
       "        vertical-align: top;\n",
       "    }\n",
       "\n",
       "    .dataframe thead th {\n",
       "        text-align: right;\n",
       "    }\n",
       "</style>\n",
       "<table border=\"1\" class=\"dataframe\">\n",
       "  <thead>\n",
       "    <tr style=\"text-align: right;\">\n",
       "      <th></th>\n",
       "      <th>Overall rank</th>\n",
       "      <th>Country or region</th>\n",
       "      <th>Score</th>\n",
       "      <th>GDP per capita</th>\n",
       "      <th>Social support</th>\n",
       "      <th>Healthy life expectancy</th>\n",
       "      <th>Freedom to make life choices</th>\n",
       "      <th>Generosity</th>\n",
       "      <th>Perceptions of corruption</th>\n",
       "    </tr>\n",
       "  </thead>\n",
       "  <tbody>\n",
       "    <tr>\n",
       "      <th>0</th>\n",
       "      <td>1</td>\n",
       "      <td>Finland</td>\n",
       "      <td>7.769</td>\n",
       "      <td>1.340</td>\n",
       "      <td>1.587</td>\n",
       "      <td>0.986</td>\n",
       "      <td>0.596</td>\n",
       "      <td>0.153</td>\n",
       "      <td>0.393</td>\n",
       "    </tr>\n",
       "    <tr>\n",
       "      <th>1</th>\n",
       "      <td>2</td>\n",
       "      <td>Denmark</td>\n",
       "      <td>7.600</td>\n",
       "      <td>1.383</td>\n",
       "      <td>1.573</td>\n",
       "      <td>0.996</td>\n",
       "      <td>0.592</td>\n",
       "      <td>0.252</td>\n",
       "      <td>0.410</td>\n",
       "    </tr>\n",
       "    <tr>\n",
       "      <th>2</th>\n",
       "      <td>3</td>\n",
       "      <td>Norway</td>\n",
       "      <td>7.554</td>\n",
       "      <td>1.488</td>\n",
       "      <td>1.582</td>\n",
       "      <td>1.028</td>\n",
       "      <td>0.603</td>\n",
       "      <td>0.271</td>\n",
       "      <td>0.341</td>\n",
       "    </tr>\n",
       "    <tr>\n",
       "      <th>3</th>\n",
       "      <td>4</td>\n",
       "      <td>Iceland</td>\n",
       "      <td>7.494</td>\n",
       "      <td>1.380</td>\n",
       "      <td>1.624</td>\n",
       "      <td>1.026</td>\n",
       "      <td>0.591</td>\n",
       "      <td>0.354</td>\n",
       "      <td>0.118</td>\n",
       "    </tr>\n",
       "    <tr>\n",
       "      <th>4</th>\n",
       "      <td>5</td>\n",
       "      <td>Netherlands</td>\n",
       "      <td>7.488</td>\n",
       "      <td>1.396</td>\n",
       "      <td>1.522</td>\n",
       "      <td>0.999</td>\n",
       "      <td>0.557</td>\n",
       "      <td>0.322</td>\n",
       "      <td>0.298</td>\n",
       "    </tr>\n",
       "    <tr>\n",
       "      <th>...</th>\n",
       "      <td>...</td>\n",
       "      <td>...</td>\n",
       "      <td>...</td>\n",
       "      <td>...</td>\n",
       "      <td>...</td>\n",
       "      <td>...</td>\n",
       "      <td>...</td>\n",
       "      <td>...</td>\n",
       "      <td>...</td>\n",
       "    </tr>\n",
       "    <tr>\n",
       "      <th>151</th>\n",
       "      <td>152</td>\n",
       "      <td>Rwanda</td>\n",
       "      <td>3.334</td>\n",
       "      <td>0.359</td>\n",
       "      <td>0.711</td>\n",
       "      <td>0.614</td>\n",
       "      <td>0.555</td>\n",
       "      <td>0.217</td>\n",
       "      <td>0.411</td>\n",
       "    </tr>\n",
       "    <tr>\n",
       "      <th>152</th>\n",
       "      <td>153</td>\n",
       "      <td>Tanzania</td>\n",
       "      <td>3.231</td>\n",
       "      <td>0.476</td>\n",
       "      <td>0.885</td>\n",
       "      <td>0.499</td>\n",
       "      <td>0.417</td>\n",
       "      <td>0.276</td>\n",
       "      <td>0.147</td>\n",
       "    </tr>\n",
       "    <tr>\n",
       "      <th>153</th>\n",
       "      <td>154</td>\n",
       "      <td>Afghanistan</td>\n",
       "      <td>3.203</td>\n",
       "      <td>0.350</td>\n",
       "      <td>0.517</td>\n",
       "      <td>0.361</td>\n",
       "      <td>0.000</td>\n",
       "      <td>0.158</td>\n",
       "      <td>0.025</td>\n",
       "    </tr>\n",
       "    <tr>\n",
       "      <th>154</th>\n",
       "      <td>155</td>\n",
       "      <td>Central African Republic</td>\n",
       "      <td>3.083</td>\n",
       "      <td>0.026</td>\n",
       "      <td>0.000</td>\n",
       "      <td>0.105</td>\n",
       "      <td>0.225</td>\n",
       "      <td>0.235</td>\n",
       "      <td>0.035</td>\n",
       "    </tr>\n",
       "    <tr>\n",
       "      <th>155</th>\n",
       "      <td>156</td>\n",
       "      <td>South Sudan</td>\n",
       "      <td>2.853</td>\n",
       "      <td>0.306</td>\n",
       "      <td>0.575</td>\n",
       "      <td>0.295</td>\n",
       "      <td>0.010</td>\n",
       "      <td>0.202</td>\n",
       "      <td>0.091</td>\n",
       "    </tr>\n",
       "  </tbody>\n",
       "</table>\n",
       "<p>156 rows × 9 columns</p>\n",
       "</div>"
      ],
      "text/plain": [
       "     Overall rank         Country or region  Score  GDP per capita  \\\n",
       "0               1                   Finland  7.769           1.340   \n",
       "1               2                   Denmark  7.600           1.383   \n",
       "2               3                    Norway  7.554           1.488   \n",
       "3               4                   Iceland  7.494           1.380   \n",
       "4               5               Netherlands  7.488           1.396   \n",
       "..            ...                       ...    ...             ...   \n",
       "151           152                    Rwanda  3.334           0.359   \n",
       "152           153                  Tanzania  3.231           0.476   \n",
       "153           154               Afghanistan  3.203           0.350   \n",
       "154           155  Central African Republic  3.083           0.026   \n",
       "155           156               South Sudan  2.853           0.306   \n",
       "\n",
       "     Social support  Healthy life expectancy  Freedom to make life choices  \\\n",
       "0             1.587                    0.986                         0.596   \n",
       "1             1.573                    0.996                         0.592   \n",
       "2             1.582                    1.028                         0.603   \n",
       "3             1.624                    1.026                         0.591   \n",
       "4             1.522                    0.999                         0.557   \n",
       "..              ...                      ...                           ...   \n",
       "151           0.711                    0.614                         0.555   \n",
       "152           0.885                    0.499                         0.417   \n",
       "153           0.517                    0.361                         0.000   \n",
       "154           0.000                    0.105                         0.225   \n",
       "155           0.575                    0.295                         0.010   \n",
       "\n",
       "     Generosity  Perceptions of corruption  \n",
       "0         0.153                      0.393  \n",
       "1         0.252                      0.410  \n",
       "2         0.271                      0.341  \n",
       "3         0.354                      0.118  \n",
       "4         0.322                      0.298  \n",
       "..          ...                        ...  \n",
       "151       0.217                      0.411  \n",
       "152       0.276                      0.147  \n",
       "153       0.158                      0.025  \n",
       "154       0.235                      0.035  \n",
       "155       0.202                      0.091  \n",
       "\n",
       "[156 rows x 9 columns]"
      ]
     },
     "execution_count": 1,
     "metadata": {},
     "output_type": "execute_result"
    }
   ],
   "source": [
    "import pandas as pd\n",
    "import numpy as np\n",
    "import statistics as st\n",
    "import scipy.stats as stats\n",
    "import matplotlib.pyplot as plt\n",
    "import seaborn as sns\n",
    "\n",
    "file = pd.read_csv('2019.csv')\n",
    "file"
   ]
  },
  {
   "cell_type": "code",
   "execution_count": 2,
   "metadata": {},
   "outputs": [],
   "source": [
    "all_columns = file[['Score','GDP per capita','Social support','Healthy life expectancy','Freedom to make life choices','Generosity','Perceptions of corruption']]\n",
    "\n",
    "mean = all_columns.mean() \n",
    "len_data = len(mean)\n",
    "len_file_data = len(file.columns)"
   ]
  },
  {
   "cell_type": "markdown",
   "metadata": {},
   "source": [
    "Soal"
   ]
  },
  {
   "cell_type": "markdown",
   "metadata": {},
   "source": [
    "1. Untuk setiap numerik feature/column (kecuali column Overall Rank), hitunglah:\n",
    "   - Mean, Median dan Modus\n",
    "   - Range, Q1, Q3 dan IQR\n",
    "   - Standard Deviasi & Variance\n",
    "   - Z-score tiap data point"
   ]
  },
  {
   "cell_type": "markdown",
   "metadata": {},
   "source": [
    "Jawaban"
   ]
  },
  {
   "cell_type": "markdown",
   "metadata": {},
   "source": [
    "- Menghitung nilai Mean, Median dan Modus"
   ]
  },
  {
   "cell_type": "code",
   "execution_count": 3,
   "metadata": {},
   "outputs": [
    {
     "data": {
      "text/html": [
       "<div>\n",
       "<style scoped>\n",
       "    .dataframe tbody tr th:only-of-type {\n",
       "        vertical-align: middle;\n",
       "    }\n",
       "\n",
       "    .dataframe tbody tr th {\n",
       "        vertical-align: top;\n",
       "    }\n",
       "\n",
       "    .dataframe thead th {\n",
       "        text-align: right;\n",
       "    }\n",
       "</style>\n",
       "<table border=\"1\" class=\"dataframe\">\n",
       "  <thead>\n",
       "    <tr style=\"text-align: right;\">\n",
       "      <th></th>\n",
       "      <th>Mean</th>\n",
       "      <th>Median</th>\n",
       "      <th>Mode</th>\n",
       "    </tr>\n",
       "  </thead>\n",
       "  <tbody>\n",
       "    <tr>\n",
       "      <th>Score</th>\n",
       "      <td>5.407096</td>\n",
       "      <td>5.3795</td>\n",
       "      <td>5.208</td>\n",
       "    </tr>\n",
       "    <tr>\n",
       "      <th>GDP per capita</th>\n",
       "      <td>0.905147</td>\n",
       "      <td>0.9600</td>\n",
       "      <td>0.960</td>\n",
       "    </tr>\n",
       "    <tr>\n",
       "      <th>Social support</th>\n",
       "      <td>1.208814</td>\n",
       "      <td>1.2715</td>\n",
       "      <td>1.465</td>\n",
       "    </tr>\n",
       "    <tr>\n",
       "      <th>Healthy life expectancy</th>\n",
       "      <td>0.725244</td>\n",
       "      <td>0.7890</td>\n",
       "      <td>0.999</td>\n",
       "    </tr>\n",
       "    <tr>\n",
       "      <th>Freedom to make life choices</th>\n",
       "      <td>0.392571</td>\n",
       "      <td>0.4170</td>\n",
       "      <td>0.557</td>\n",
       "    </tr>\n",
       "    <tr>\n",
       "      <th>Generosity</th>\n",
       "      <td>0.184846</td>\n",
       "      <td>0.1775</td>\n",
       "      <td>0.153</td>\n",
       "    </tr>\n",
       "    <tr>\n",
       "      <th>Perceptions of corruption</th>\n",
       "      <td>0.110603</td>\n",
       "      <td>0.0855</td>\n",
       "      <td>0.078</td>\n",
       "    </tr>\n",
       "  </tbody>\n",
       "</table>\n",
       "</div>"
      ],
      "text/plain": [
       "                                  Mean  Median   Mode\n",
       "Score                         5.407096  5.3795  5.208\n",
       "GDP per capita                0.905147  0.9600  0.960\n",
       "Social support                1.208814  1.2715  1.465\n",
       "Healthy life expectancy       0.725244  0.7890  0.999\n",
       "Freedom to make life choices  0.392571  0.4170  0.557\n",
       "Generosity                    0.184846  0.1775  0.153\n",
       "Perceptions of corruption     0.110603  0.0855  0.078"
      ]
     },
     "execution_count": 3,
     "metadata": {},
     "output_type": "execute_result"
    }
   ],
   "source": [
    "data_mean = []\n",
    "for x in range(len_data):\n",
    "    loc_data_mean = mean[x]\n",
    "    data_mean.append(loc_data_mean)\n",
    "\n",
    "median = all_columns.median()    \n",
    "data_median = []\n",
    "for x in range(len_data):\n",
    "    loc_data_median = median[x]\n",
    "    data_median.append(loc_data_median)\n",
    "    \n",
    "data_mode = []\n",
    "for x in range(2,len_file_data):\n",
    "    loc_data_mode=file.iloc[:,x]\n",
    "    mode_value = st.mode(loc_data_mode)\n",
    "    data_mode.append(mode_value)  \n",
    "    \n",
    "dataframe_1a = pd.DataFrame(list(zip(data_mean,data_median,data_mode)),index=['Score','GDP per capita','Social support','Healthy life expectancy','Freedom to make life choices','Generosity','Perceptions of corruption'],columns =['Mean','Median','Mode'])\n",
    "dataframe_1a"
   ]
  },
  {
   "cell_type": "markdown",
   "metadata": {},
   "source": [
    "- Menghitung nilai Range, Q1, Q3 dan IQR"
   ]
  },
  {
   "cell_type": "code",
   "execution_count": 4,
   "metadata": {},
   "outputs": [
    {
     "data": {
      "text/html": [
       "<div>\n",
       "<style scoped>\n",
       "    .dataframe tbody tr th:only-of-type {\n",
       "        vertical-align: middle;\n",
       "    }\n",
       "\n",
       "    .dataframe tbody tr th {\n",
       "        vertical-align: top;\n",
       "    }\n",
       "\n",
       "    .dataframe thead th {\n",
       "        text-align: right;\n",
       "    }\n",
       "</style>\n",
       "<table border=\"1\" class=\"dataframe\">\n",
       "  <thead>\n",
       "    <tr style=\"text-align: right;\">\n",
       "      <th></th>\n",
       "      <th>Range</th>\n",
       "      <th>Q1</th>\n",
       "      <th>Q3</th>\n",
       "      <th>IQR</th>\n",
       "    </tr>\n",
       "  </thead>\n",
       "  <tbody>\n",
       "    <tr>\n",
       "      <th>Score</th>\n",
       "      <td>4.916</td>\n",
       "      <td>4.54450</td>\n",
       "      <td>6.18450</td>\n",
       "      <td>1.64000</td>\n",
       "    </tr>\n",
       "    <tr>\n",
       "      <th>GDP per capita</th>\n",
       "      <td>1.684</td>\n",
       "      <td>0.60275</td>\n",
       "      <td>1.23250</td>\n",
       "      <td>0.62975</td>\n",
       "    </tr>\n",
       "    <tr>\n",
       "      <th>Social support</th>\n",
       "      <td>1.624</td>\n",
       "      <td>1.05575</td>\n",
       "      <td>1.45250</td>\n",
       "      <td>0.39675</td>\n",
       "    </tr>\n",
       "    <tr>\n",
       "      <th>Healthy life expectancy</th>\n",
       "      <td>1.141</td>\n",
       "      <td>0.54775</td>\n",
       "      <td>0.88175</td>\n",
       "      <td>0.33400</td>\n",
       "    </tr>\n",
       "    <tr>\n",
       "      <th>Freedom to make life choices</th>\n",
       "      <td>0.631</td>\n",
       "      <td>0.30800</td>\n",
       "      <td>0.50725</td>\n",
       "      <td>0.19925</td>\n",
       "    </tr>\n",
       "    <tr>\n",
       "      <th>Generosity</th>\n",
       "      <td>0.566</td>\n",
       "      <td>0.10875</td>\n",
       "      <td>0.24825</td>\n",
       "      <td>0.13950</td>\n",
       "    </tr>\n",
       "    <tr>\n",
       "      <th>Perceptions of corruption</th>\n",
       "      <td>0.453</td>\n",
       "      <td>0.04700</td>\n",
       "      <td>0.14125</td>\n",
       "      <td>0.09425</td>\n",
       "    </tr>\n",
       "  </tbody>\n",
       "</table>\n",
       "</div>"
      ],
      "text/plain": [
       "                              Range       Q1       Q3      IQR\n",
       "Score                         4.916  4.54450  6.18450  1.64000\n",
       "GDP per capita                1.684  0.60275  1.23250  0.62975\n",
       "Social support                1.624  1.05575  1.45250  0.39675\n",
       "Healthy life expectancy       1.141  0.54775  0.88175  0.33400\n",
       "Freedom to make life choices  0.631  0.30800  0.50725  0.19925\n",
       "Generosity                    0.566  0.10875  0.24825  0.13950\n",
       "Perceptions of corruption     0.453  0.04700  0.14125  0.09425"
      ]
     },
     "execution_count": 4,
     "metadata": {},
     "output_type": "execute_result"
    }
   ],
   "source": [
    "data_range = []\n",
    "for x in range(2,len_file_data):\n",
    "    loc_data_range=file.iloc[:,x]\n",
    "    range_value = max(loc_data_range)-min(loc_data_range)\n",
    "    data_range.append(range_value)   \n",
    "\n",
    "data_q1 = []\n",
    "for x in range(2,len_file_data):\n",
    "    loc_data_q1=file.iloc[:,x]\n",
    "    \n",
    "    q1_value = np.percentile(loc_data_q1, 25)\n",
    "    data_q1.append(q1_value) \n",
    "\n",
    "data_q3 = []\n",
    "for x in range(2,len_file_data):\n",
    "    loc_data_q3=file.iloc[:,x]\n",
    "    q3_value = np.percentile(loc_data_q3, 75)\n",
    "    data_q3.append(q3_value)     \n",
    "\n",
    "data_iqr = []\n",
    "for x in range(2,len_file_data):\n",
    "    loc_data=file.iloc[:,x]\n",
    "    q1_value = np.percentile(loc_data, 25)\n",
    "    q3_value = np.percentile(loc_data, 75)\n",
    "    iqr_value = q3_value - q1_value\n",
    "    data_iqr.append(iqr_value)\n",
    "    \n",
    "dataframe_1b = pd.DataFrame(list(zip(data_range,data_q1,data_q3,data_iqr)),index=['Score','GDP per capita','Social support','Healthy life expectancy','Freedom to make life choices','Generosity','Perceptions of corruption'],columns =['Range','Q1','Q3','IQR'])  \n",
    "dataframe_1b"
   ]
  },
  {
   "cell_type": "markdown",
   "metadata": {},
   "source": [
    "- Menghitung nilai Standard Deviasi & Variance"
   ]
  },
  {
   "cell_type": "code",
   "execution_count": 5,
   "metadata": {},
   "outputs": [
    {
     "data": {
      "text/html": [
       "<div>\n",
       "<style scoped>\n",
       "    .dataframe tbody tr th:only-of-type {\n",
       "        vertical-align: middle;\n",
       "    }\n",
       "\n",
       "    .dataframe tbody tr th {\n",
       "        vertical-align: top;\n",
       "    }\n",
       "\n",
       "    .dataframe thead th {\n",
       "        text-align: right;\n",
       "    }\n",
       "</style>\n",
       "<table border=\"1\" class=\"dataframe\">\n",
       "  <thead>\n",
       "    <tr style=\"text-align: right;\">\n",
       "      <th></th>\n",
       "      <th>StandarDeviasi</th>\n",
       "      <th>Variance</th>\n",
       "    </tr>\n",
       "  </thead>\n",
       "  <tbody>\n",
       "    <tr>\n",
       "      <th>Score</th>\n",
       "      <td>1.109546</td>\n",
       "      <td>1.239036</td>\n",
       "    </tr>\n",
       "    <tr>\n",
       "      <th>GDP per capita</th>\n",
       "      <td>0.397111</td>\n",
       "      <td>0.158714</td>\n",
       "    </tr>\n",
       "    <tr>\n",
       "      <th>Social support</th>\n",
       "      <td>0.298231</td>\n",
       "      <td>0.089515</td>\n",
       "    </tr>\n",
       "    <tr>\n",
       "      <th>Healthy life expectancy</th>\n",
       "      <td>0.241347</td>\n",
       "      <td>0.058624</td>\n",
       "    </tr>\n",
       "    <tr>\n",
       "      <th>Freedom to make life choices</th>\n",
       "      <td>0.142829</td>\n",
       "      <td>0.020532</td>\n",
       "    </tr>\n",
       "    <tr>\n",
       "      <th>Generosity</th>\n",
       "      <td>0.094949</td>\n",
       "      <td>0.009073</td>\n",
       "    </tr>\n",
       "    <tr>\n",
       "      <th>Perceptions of corruption</th>\n",
       "      <td>0.094234</td>\n",
       "      <td>0.008937</td>\n",
       "    </tr>\n",
       "  </tbody>\n",
       "</table>\n",
       "</div>"
      ],
      "text/plain": [
       "                              StandarDeviasi  Variance\n",
       "Score                               1.109546  1.239036\n",
       "GDP per capita                      0.397111  0.158714\n",
       "Social support                      0.298231  0.089515\n",
       "Healthy life expectancy             0.241347  0.058624\n",
       "Freedom to make life choices        0.142829  0.020532\n",
       "Generosity                          0.094949  0.009073\n",
       "Perceptions of corruption           0.094234  0.008937"
      ]
     },
     "execution_count": 5,
     "metadata": {},
     "output_type": "execute_result"
    }
   ],
   "source": [
    "data_std = []\n",
    "for x in range(2,len_file_data):\n",
    "    loc_data_std=file.iloc[:,x]\n",
    "    std_value = np.std(loc_data_std)\n",
    "    data_std.append(std_value)         \n",
    "\n",
    "data_variance = []\n",
    "for x in range(2,len_file_data):\n",
    "    loc_data_variance=file.iloc[:,x]\n",
    "    variance_value = st.variance(loc_data_variance)\n",
    "    data_variance.append(variance_value)\n",
    "\n",
    "dataframe_1c = pd.DataFrame(list(zip(data_std,data_variance)),index=['Score','GDP per capita','Social support','Healthy life expectancy','Freedom to make life choices','Generosity','Perceptions of corruption'],columns =['StandarDeviasi','Variance']) \n",
    "dataframe_1c"
   ]
  },
  {
   "cell_type": "markdown",
   "metadata": {},
   "source": [
    "- Menghitung nilai Z-Score tiap data point"
   ]
  },
  {
   "cell_type": "code",
   "execution_count": 6,
   "metadata": {},
   "outputs": [
    {
     "data": {
      "text/html": [
       "<div>\n",
       "<style scoped>\n",
       "    .dataframe tbody tr th:only-of-type {\n",
       "        vertical-align: middle;\n",
       "    }\n",
       "\n",
       "    .dataframe tbody tr th {\n",
       "        vertical-align: top;\n",
       "    }\n",
       "\n",
       "    .dataframe thead th {\n",
       "        text-align: right;\n",
       "    }\n",
       "</style>\n",
       "<table border=\"1\" class=\"dataframe\">\n",
       "  <thead>\n",
       "    <tr style=\"text-align: right;\">\n",
       "      <th></th>\n",
       "      <th>Score</th>\n",
       "      <th>GDP per capita</th>\n",
       "      <th>Social support</th>\n",
       "      <th>Healthy life expectancy</th>\n",
       "      <th>Freedom to make life choices</th>\n",
       "      <th>Generosity</th>\n",
       "      <th>Perceptions of corruption</th>\n",
       "    </tr>\n",
       "  </thead>\n",
       "  <tbody>\n",
       "    <tr>\n",
       "      <th>0</th>\n",
       "      <td>2.128711</td>\n",
       "      <td>1.095042</td>\n",
       "      <td>1.268098</td>\n",
       "      <td>1.080422</td>\n",
       "      <td>1.424282</td>\n",
       "      <td>-0.335404</td>\n",
       "      <td>2.996757</td>\n",
       "    </tr>\n",
       "    <tr>\n",
       "      <th>1</th>\n",
       "      <td>1.976397</td>\n",
       "      <td>1.203324</td>\n",
       "      <td>1.221154</td>\n",
       "      <td>1.121857</td>\n",
       "      <td>1.396277</td>\n",
       "      <td>0.707265</td>\n",
       "      <td>3.177158</td>\n",
       "    </tr>\n",
       "    <tr>\n",
       "      <th>2</th>\n",
       "      <td>1.934938</td>\n",
       "      <td>1.467734</td>\n",
       "      <td>1.251332</td>\n",
       "      <td>1.254446</td>\n",
       "      <td>1.473292</td>\n",
       "      <td>0.907373</td>\n",
       "      <td>2.444941</td>\n",
       "    </tr>\n",
       "    <tr>\n",
       "      <th>3</th>\n",
       "      <td>1.880862</td>\n",
       "      <td>1.195769</td>\n",
       "      <td>1.392163</td>\n",
       "      <td>1.246159</td>\n",
       "      <td>1.389276</td>\n",
       "      <td>1.781530</td>\n",
       "      <td>0.078500</td>\n",
       "    </tr>\n",
       "    <tr>\n",
       "      <th>4</th>\n",
       "      <td>1.875454</td>\n",
       "      <td>1.236060</td>\n",
       "      <td>1.050146</td>\n",
       "      <td>1.134287</td>\n",
       "      <td>1.151229</td>\n",
       "      <td>1.444506</td>\n",
       "      <td>1.988632</td>\n",
       "    </tr>\n",
       "    <tr>\n",
       "      <th>...</th>\n",
       "      <td>...</td>\n",
       "      <td>...</td>\n",
       "      <td>...</td>\n",
       "      <td>...</td>\n",
       "      <td>...</td>\n",
       "      <td>...</td>\n",
       "      <td>...</td>\n",
       "    </tr>\n",
       "    <tr>\n",
       "      <th>151</th>\n",
       "      <td>-1.868418</td>\n",
       "      <td>-1.375303</td>\n",
       "      <td>-1.669224</td>\n",
       "      <td>-0.460929</td>\n",
       "      <td>1.137227</td>\n",
       "      <td>0.338645</td>\n",
       "      <td>3.187770</td>\n",
       "    </tr>\n",
       "    <tr>\n",
       "      <th>152</th>\n",
       "      <td>-1.961248</td>\n",
       "      <td>-1.080675</td>\n",
       "      <td>-1.085783</td>\n",
       "      <td>-0.937421</td>\n",
       "      <td>0.171040</td>\n",
       "      <td>0.960033</td>\n",
       "      <td>0.386244</td>\n",
       "    </tr>\n",
       "    <tr>\n",
       "      <th>153</th>\n",
       "      <td>-1.986484</td>\n",
       "      <td>-1.397967</td>\n",
       "      <td>-2.319726</td>\n",
       "      <td>-1.509213</td>\n",
       "      <td>-2.748526</td>\n",
       "      <td>-0.282744</td>\n",
       "      <td>-0.908401</td>\n",
       "    </tr>\n",
       "    <tr>\n",
       "      <th>154</th>\n",
       "      <td>-2.094636</td>\n",
       "      <td>-2.213861</td>\n",
       "      <td>-4.053282</td>\n",
       "      <td>-2.569928</td>\n",
       "      <td>-1.173221</td>\n",
       "      <td>0.528221</td>\n",
       "      <td>-0.802283</td>\n",
       "    </tr>\n",
       "    <tr>\n",
       "      <th>155</th>\n",
       "      <td>-2.301928</td>\n",
       "      <td>-1.508767</td>\n",
       "      <td>-2.125246</td>\n",
       "      <td>-1.782678</td>\n",
       "      <td>-2.678512</td>\n",
       "      <td>0.180664</td>\n",
       "      <td>-0.208019</td>\n",
       "    </tr>\n",
       "  </tbody>\n",
       "</table>\n",
       "<p>156 rows × 7 columns</p>\n",
       "</div>"
      ],
      "text/plain": [
       "        Score  GDP per capita  Social support  Healthy life expectancy  \\\n",
       "0    2.128711        1.095042        1.268098                 1.080422   \n",
       "1    1.976397        1.203324        1.221154                 1.121857   \n",
       "2    1.934938        1.467734        1.251332                 1.254446   \n",
       "3    1.880862        1.195769        1.392163                 1.246159   \n",
       "4    1.875454        1.236060        1.050146                 1.134287   \n",
       "..        ...             ...             ...                      ...   \n",
       "151 -1.868418       -1.375303       -1.669224                -0.460929   \n",
       "152 -1.961248       -1.080675       -1.085783                -0.937421   \n",
       "153 -1.986484       -1.397967       -2.319726                -1.509213   \n",
       "154 -2.094636       -2.213861       -4.053282                -2.569928   \n",
       "155 -2.301928       -1.508767       -2.125246                -1.782678   \n",
       "\n",
       "     Freedom to make life choices  Generosity  Perceptions of corruption  \n",
       "0                        1.424282   -0.335404                   2.996757  \n",
       "1                        1.396277    0.707265                   3.177158  \n",
       "2                        1.473292    0.907373                   2.444941  \n",
       "3                        1.389276    1.781530                   0.078500  \n",
       "4                        1.151229    1.444506                   1.988632  \n",
       "..                            ...         ...                        ...  \n",
       "151                      1.137227    0.338645                   3.187770  \n",
       "152                      0.171040    0.960033                   0.386244  \n",
       "153                     -2.748526   -0.282744                  -0.908401  \n",
       "154                     -1.173221    0.528221                  -0.802283  \n",
       "155                     -2.678512    0.180664                  -0.208019  \n",
       "\n",
       "[156 rows x 7 columns]"
      ]
     },
     "execution_count": 6,
     "metadata": {},
     "output_type": "execute_result"
    }
   ],
   "source": [
    "z_score = all_columns.apply(stats.zscore)\n",
    "z_score"
   ]
  },
  {
   "cell_type": "markdown",
   "metadata": {},
   "source": [
    "Soal"
   ]
  },
  {
   "cell_type": "markdown",
   "metadata": {},
   "source": [
    "2. Untuk setiap numerik feature/column (kecuali column Overall Rank), carilah data Outlier-nya      berdasarkan:\n",
    "   - IQR method\n",
    "   - Z-score method"
   ]
  },
  {
   "cell_type": "markdown",
   "metadata": {},
   "source": [
    "Jawaban"
   ]
  },
  {
   "cell_type": "markdown",
   "metadata": {},
   "source": [
    "- Mencari data Outlier berdasarkan IQR method untuk setiap fitur/kolom"
   ]
  },
  {
   "cell_type": "code",
   "execution_count": 7,
   "metadata": {},
   "outputs": [
    {
     "name": "stdout",
     "output_type": "stream",
     "text": [
      "Score []\n",
      "GDP per capita []\n",
      "Social support [0.437, 0.447, 0.378, 0.0]\n",
      "Healthy life expectancy [0.0]\n",
      "Freedom to make life choices [0.0]\n",
      "Generosity [0.498, 0.566]\n",
      "Perceptions of corruption [0.393, 0.41, 0.341, 0.298, 0.343, 0.373, 0.38, 0.308, 0.29, 0.316, 0.31, 0.453, 0.287, 0.411]\n"
     ]
    }
   ],
   "source": [
    "for x in range(0,len_data):\n",
    "    q1 = dataframe_1b.iloc[x,1]\n",
    "    q3 = dataframe_1b.iloc[x,2]\n",
    "    iqr = dataframe_1b.iloc[x,3]\n",
    "    min_iqr_score = q1 - 1.5 * iqr\n",
    "    max_iqr_score = q3 + 1.5 * iqr\n",
    "    loc_data=file.iloc[:,x+2]\n",
    "    loc_column = file.columns[x+2]\n",
    "    outlier_iqr =[]\n",
    "    for y in loc_data:\n",
    "        if ((y > max_iqr_score) or (y < min_iqr_score)):\n",
    "            outlier_iqr.append(y)\n",
    "    print(loc_column,outlier_iqr)"
   ]
  },
  {
   "cell_type": "markdown",
   "metadata": {},
   "source": [
    "- Mencari data Outlier berdasarkan Z-Score method untuk setiap fitur/kolom"
   ]
  },
  {
   "cell_type": "code",
   "execution_count": 8,
   "metadata": {},
   "outputs": [
    {
     "name": "stdout",
     "output_type": "stream",
     "text": [
      "Score []\n",
      "GDP per capita []\n",
      "Social support []\n",
      "Healthy life expectancy []\n",
      "Freedom to make life choices []\n",
      "Generosity [0.498, 0.566]\n",
      "Perceptions of corruption [0.41, 0.453, 0.411]\n"
     ]
    }
   ],
   "source": [
    "for x in range(2,len_file_data):\n",
    "    mean = dataframe_1a.iloc[x-2,0]\n",
    "    std = dataframe_1c.iloc[x-2,0]\n",
    "    loc_data = file.iloc[:,x]\n",
    "    loc_column = file.columns[x]\n",
    "    threshold = 3\n",
    "    outlier_z_score = []\n",
    "    for y in loc_data:\n",
    "        var = (y-mean)/std\n",
    "        if var > threshold:\n",
    "            outlier_z_score.append(y)\n",
    "    print(loc_column,outlier_z_score)"
   ]
  },
  {
   "cell_type": "markdown",
   "metadata": {},
   "source": [
    "Soal"
   ]
  },
  {
   "cell_type": "markdown",
   "metadata": {},
   "source": [
    "3. Tampilkan sebaran masing-masing numerik feature/column (kecuali column Overall Rank) dalam bentuk boxplot dan histogram!"
   ]
  },
  {
   "cell_type": "markdown",
   "metadata": {},
   "source": [
    "Jawaban"
   ]
  },
  {
   "cell_type": "markdown",
   "metadata": {},
   "source": [
    "- Menampilkan masing - masing numerik fitur/kolom dalam bentuk Boxplot"
   ]
  },
  {
   "cell_type": "code",
   "execution_count": 9,
   "metadata": {},
   "outputs": [
    {
     "name": "stdout",
     "output_type": "stream",
     "text": [
      "Score\n"
     ]
    },
    {
     "data": {
      "image/png": "[encoded data removed]",
      "text/plain": [
       "<Figure size 700x400 with 1 Axes>"
      ]
     },
     "metadata": {},
     "output_type": "display_data"
    },
    {
     "name": "stdout",
     "output_type": "stream",
     "text": [
      "GDP per capita\n"
     ]
    },
    {
     "data": {
      "image/png": "[encoded data removed]",
      "text/plain": [
       "<Figure size 700x400 with 1 Axes>"
      ]
     },
     "metadata": {},
     "output_type": "display_data"
    },
    {
     "name": "stdout",
     "output_type": "stream",
     "text": [
      "Social support\n"
     ]
    },
    {
     "data": {
      "image/png": "[encoded data removed]",
      "text/plain": [
       "<Figure size 700x400 with 1 Axes>"
      ]
     },
     "metadata": {},
     "output_type": "display_data"
    },
    {
     "name": "stdout",
     "output_type": "stream",
     "text": [
      "Healthy life expectancy\n"
     ]
    },
    {
     "data": {
      "image/png": "[encoded data removed]",
      "text/plain": [
       "<Figure size 700x400 with 1 Axes>"
      ]
     },
     "metadata": {},
     "output_type": "display_data"
    },
    {
     "name": "stdout",
     "output_type": "stream",
     "text": [
      "Freedom to make life choices\n"
     ]
    },
    {
     "data": {
      "image/png": "[encoded data removed]",
      "text/plain": [
       "<Figure size 700x400 with 1 Axes>"
      ]
     },
     "metadata": {},
     "output_type": "display_data"
    },
    {
     "name": "stdout",
     "output_type": "stream",
     "text": [
      "Generosity\n"
     ]
    },
    {
     "data": {
      "image/png": "[encoded data removed]",
      "text/plain": [
       "<Figure size 700x400 with 1 Axes>"
      ]
     },
     "metadata": {},
     "output_type": "display_data"
    },
    {
     "name": "stdout",
     "output_type": "stream",
     "text": [
      "Perceptions of corruption\n"
     ]
    },
    {
     "data": {
      "image/png": "[encoded data removed]",
      "text/plain": [
       "<Figure size 700x400 with 1 Axes>"
      ]
     },
     "metadata": {},
     "output_type": "display_data"
    }
   ],
   "source": [
    "for x in range(2,len_file_data):\n",
    "    loc_data = file.iloc[:,x]\n",
    "    head = file.columns.values[x]\n",
    "    fig = plt.figure(figsize =(7, 4))\n",
    "    plt.boxplot(loc_data)\n",
    "    print(head)\n",
    "    plt.show()"
   ]
  },
  {
   "cell_type": "markdown",
   "metadata": {},
   "source": [
    "- Menampilkan masing - masing numerik fitur/kolom dalam bentuk Histogram"
   ]
  },
  {
   "cell_type": "code",
   "execution_count": 10,
   "metadata": {},
   "outputs": [
    {
     "name": "stdout",
     "output_type": "stream",
     "text": [
      "Score\n"
     ]
    },
    {
     "data": {
      "image/png": "[encoded data removed]",
      "text/plain": [
       "<Figure size 640x480 with 1 Axes>"
      ]
     },
     "metadata": {},
     "output_type": "display_data"
    },
    {
     "name": "stdout",
     "output_type": "stream",
     "text": [
      "GDP per capita\n"
     ]
    },
    {
     "data": {
      "image/png": "[encoded data removed]",
      "text/plain": [
       "<Figure size 640x480 with 1 Axes>"
      ]
     },
     "metadata": {},
     "output_type": "display_data"
    },
    {
     "name": "stdout",
     "output_type": "stream",
     "text": [
      "Social support\n"
     ]
    },
    {
     "data": {
      "image/png": "[encoded data removed]",
      "text/plain": [
       "<Figure size 640x480 with 1 Axes>"
      ]
     },
     "metadata": {},
     "output_type": "display_data"
    },
    {
     "name": "stdout",
     "output_type": "stream",
     "text": [
      "Healthy life expectancy\n"
     ]
    },
    {
     "data": {
      "image/png": "[encoded data removed]",
      "text/plain": [
       "<Figure size 640x480 with 1 Axes>"
      ]
     },
     "metadata": {},
     "output_type": "display_data"
    },
    {
     "name": "stdout",
     "output_type": "stream",
     "text": [
      "Freedom to make life choices\n"
     ]
    },
    {
     "data": {
      "image/png": "[encoded data removed]",
      "text/plain": [
       "<Figure size 640x480 with 1 Axes>"
      ]
     },
     "metadata": {},
     "output_type": "display_data"
    },
    {
     "name": "stdout",
     "output_type": "stream",
     "text": [
      "Generosity\n"
     ]
    },
    {
     "data": {
      "image/png": "[encoded data removed]",
      "text/plain": [
       "<Figure size 640x480 with 1 Axes>"
      ]
     },
     "metadata": {},
     "output_type": "display_data"
    },
    {
     "name": "stdout",
     "output_type": "stream",
     "text": [
      "Perceptions of corruption\n"
     ]
    },
    {
     "data": {
      "image/png": "[encoded data removed]",
      "text/plain": [
       "<Figure size 640x480 with 1 Axes>"
      ]
     },
     "metadata": {},
     "output_type": "display_data"
    }
   ],
   "source": [
    "for x in range(2,len_file_data):\n",
    "    loc_data = file.iloc[:,x]\n",
    "    head = file.columns.values[x]\n",
    "    plt.hist(loc_data)\n",
    "    print(head)\n",
    "    plt.show() "
   ]
  },
  {
   "cell_type": "markdown",
   "metadata": {},
   "source": [
    "Soal"
   ]
  },
  {
   "cell_type": "markdown",
   "metadata": {},
   "source": [
    "4. Di antara semua numerik feature/column (kecuali column Overall Rank), feature/column mana saja yang sangat mempengaruhi happiness score suatu negara? Buktikan dengan menghitung nilai:\n",
    "   - Covariance\n",
    "   - Pearson Correlation\n",
    "   - Spearman Correlation\n",
    "   - Kendall Correlation"
   ]
  },
  {
   "cell_type": "markdown",
   "metadata": {},
   "source": [
    "Jawaban"
   ]
  },
  {
   "cell_type": "markdown",
   "metadata": {},
   "source": [
    "Nilai Threshold yang digunakan merupakan nilai yang mendekati 1"
   ]
  },
  {
   "cell_type": "markdown",
   "metadata": {},
   "source": [
    "- Fitur/kolom yang sangat mempengaruhi happiness score berdasarkan nilai Covariance"
   ]
  },
  {
   "cell_type": "code",
   "execution_count": 20,
   "metadata": {},
   "outputs": [
    {
     "name": "stdout",
     "output_type": "stream",
     "text": [
      "\n",
      "nilai threshold =  [0.3520515083126551]\n",
      "kolom sangat mempengaruhi happiness score berdasarkan nilai Covariance ['Score', 'GDP per capita']\n",
      "kolom sangat mempengaruhi happiness score berdasarkan nilai Covariance ['GDP per capita', 'Score']\n"
     ]
    },
    {
     "data": {
      "text/html": [
       "<div>\n",
       "<style scoped>\n",
       "    .dataframe tbody tr th:only-of-type {\n",
       "        vertical-align: middle;\n",
       "    }\n",
       "\n",
       "    .dataframe tbody tr th {\n",
       "        vertical-align: top;\n",
       "    }\n",
       "\n",
       "    .dataframe thead th {\n",
       "        text-align: right;\n",
       "    }\n",
       "</style>\n",
       "<table border=\"1\" class=\"dataframe\">\n",
       "  <thead>\n",
       "    <tr style=\"text-align: right;\">\n",
       "      <th></th>\n",
       "      <th>Score</th>\n",
       "      <th>GDP per capita</th>\n",
       "      <th>Social support</th>\n",
       "      <th>Healthy life expectancy</th>\n",
       "      <th>Freedom to make life choices</th>\n",
       "      <th>Generosity</th>\n",
       "      <th>Perceptions of corruption</th>\n",
       "    </tr>\n",
       "  </thead>\n",
       "  <tbody>\n",
       "    <tr>\n",
       "      <th>Score</th>\n",
       "      <td>1.239036</td>\n",
       "      <td>0.352052</td>\n",
       "      <td>0.258788</td>\n",
       "      <td>0.210189</td>\n",
       "      <td>0.090394</td>\n",
       "      <td>0.008040</td>\n",
       "      <td>0.040579</td>\n",
       "    </tr>\n",
       "    <tr>\n",
       "      <th>GDP per capita</th>\n",
       "      <td>0.352052</td>\n",
       "      <td>0.158714</td>\n",
       "      <td>0.089981</td>\n",
       "      <td>0.080588</td>\n",
       "      <td>0.021640</td>\n",
       "      <td>-0.003023</td>\n",
       "      <td>0.011258</td>\n",
       "    </tr>\n",
       "    <tr>\n",
       "      <th>Social support</th>\n",
       "      <td>0.258788</td>\n",
       "      <td>0.089981</td>\n",
       "      <td>0.089515</td>\n",
       "      <td>0.052086</td>\n",
       "      <td>0.019178</td>\n",
       "      <td>-0.001372</td>\n",
       "      <td>0.005145</td>\n",
       "    </tr>\n",
       "    <tr>\n",
       "      <th>Healthy life expectancy</th>\n",
       "      <td>0.210189</td>\n",
       "      <td>0.080588</td>\n",
       "      <td>0.052086</td>\n",
       "      <td>0.058624</td>\n",
       "      <td>0.013544</td>\n",
       "      <td>-0.000681</td>\n",
       "      <td>0.006759</td>\n",
       "    </tr>\n",
       "    <tr>\n",
       "      <th>Freedom to make life choices</th>\n",
       "      <td>0.090394</td>\n",
       "      <td>0.021640</td>\n",
       "      <td>0.019178</td>\n",
       "      <td>0.013544</td>\n",
       "      <td>0.020532</td>\n",
       "      <td>0.003682</td>\n",
       "      <td>0.005945</td>\n",
       "    </tr>\n",
       "    <tr>\n",
       "      <th>Generosity</th>\n",
       "      <td>0.008040</td>\n",
       "      <td>-0.003023</td>\n",
       "      <td>-0.001372</td>\n",
       "      <td>-0.000681</td>\n",
       "      <td>0.003682</td>\n",
       "      <td>0.009073</td>\n",
       "      <td>0.002941</td>\n",
       "    </tr>\n",
       "    <tr>\n",
       "      <th>Perceptions of corruption</th>\n",
       "      <td>0.040579</td>\n",
       "      <td>0.011258</td>\n",
       "      <td>0.005145</td>\n",
       "      <td>0.006759</td>\n",
       "      <td>0.005945</td>\n",
       "      <td>0.002941</td>\n",
       "      <td>0.008937</td>\n",
       "    </tr>\n",
       "  </tbody>\n",
       "</table>\n",
       "</div>"
      ],
      "text/plain": [
       "                                 Score  GDP per capita  Social support  \\\n",
       "Score                         1.239036        0.352052        0.258788   \n",
       "GDP per capita                0.352052        0.158714        0.089981   \n",
       "Social support                0.258788        0.089981        0.089515   \n",
       "Healthy life expectancy       0.210189        0.080588        0.052086   \n",
       "Freedom to make life choices  0.090394        0.021640        0.019178   \n",
       "Generosity                    0.008040       -0.003023       -0.001372   \n",
       "Perceptions of corruption     0.040579        0.011258        0.005145   \n",
       "\n",
       "                              Healthy life expectancy  \\\n",
       "Score                                        0.210189   \n",
       "GDP per capita                               0.080588   \n",
       "Social support                               0.052086   \n",
       "Healthy life expectancy                      0.058624   \n",
       "Freedom to make life choices                 0.013544   \n",
       "Generosity                                  -0.000681   \n",
       "Perceptions of corruption                    0.006759   \n",
       "\n",
       "                              Freedom to make life choices  Generosity  \\\n",
       "Score                                             0.090394    0.008040   \n",
       "GDP per capita                                    0.021640   -0.003023   \n",
       "Social support                                    0.019178   -0.001372   \n",
       "Healthy life expectancy                           0.013544   -0.000681   \n",
       "Freedom to make life choices                      0.020532    0.003682   \n",
       "Generosity                                        0.003682    0.009073   \n",
       "Perceptions of corruption                         0.005945    0.002941   \n",
       "\n",
       "                              Perceptions of corruption  \n",
       "Score                                          0.040579  \n",
       "GDP per capita                                 0.011258  \n",
       "Social support                                 0.005145  \n",
       "Healthy life expectancy                        0.006759  \n",
       "Freedom to make life choices                   0.005945  \n",
       "Generosity                                     0.002941  \n",
       "Perceptions of corruption                      0.008937  "
      ]
     },
     "execution_count": 20,
     "metadata": {},
     "output_type": "execute_result"
    }
   ],
   "source": [
    "covariance = all_columns.cov()\n",
    "row_col = []\n",
    "data_all = []\n",
    "data_all2 = []\n",
    "\n",
    "for x in range(len_data):\n",
    "    col = file.columns[x+2]\n",
    "    for y in range(len_data):\n",
    "        data = covariance.iloc[x,y]\n",
    "        row = covariance.index[y]\n",
    "        data_all.append(data)\n",
    "        data_all2.append(data)\n",
    "        row_col.extend([[col,row]])  \n",
    "        \n",
    "threshold = []\n",
    "for x in range(len(data_all)):\n",
    "    data_all2.sort(reverse=True)\n",
    "    threshold_find = data_all2[x]\n",
    "    if threshold_find < 1:\n",
    "        threshold.append(threshold_find)\n",
    "        break\n",
    "print('\\nnilai threshold = ',threshold)\n",
    "for x in range(len(data_all)):\n",
    "    loc = data_all[x]\n",
    "    threshold_selecteds = threshold[0]\n",
    "    if loc == threshold_selecteds:\n",
    "        print('kolom sangat mempengaruhi happiness score berdasarkan nilai Covariance',row_col[x])  \n",
    "        \n",
    "row_temp = []\n",
    "col_temp = row_temp\n",
    "data_temp = []\n",
    "for x in range(len_data):\n",
    "    row = file.columns[x+2]\n",
    "    row_temp.append(row)\n",
    "    data_raw = []\n",
    "    for y in range(len_data):\n",
    "        data = covariance.iloc[x,y]\n",
    "        data_raw.append(data)\n",
    "    data_temp.append(data_raw)\n",
    "dataframe_covariance = pd.DataFrame(list(zip(data_temp[0],data_temp[1],data_temp[2],data_temp[3],data_temp[4],data_temp[5],data_temp[6])),columns=col_temp,index=row_temp)\n",
    "dataframe_covariance"
   ]
  },
  {
   "cell_type": "markdown",
   "metadata": {},
   "source": [
    "- Fitur/kolom yang sangat mempengaruhi happiness score berdasarkan nilai Pearson Correlation"
   ]
  },
  {
   "cell_type": "code",
   "execution_count": 23,
   "metadata": {},
   "outputs": [
    {
     "name": "stdout",
     "output_type": "stream",
     "text": [
      "\n",
      "nilai threshold =  [0.8354621150416075]\n",
      "kolom sangat mempengaruhi happiness score berdasarkan nilai Pearson Correlation ['GDP per capita', 'Healthy life expectancy']\n",
      "kolom sangat mempengaruhi happiness score berdasarkan nilai Pearson Correlation ['Healthy life expectancy', 'GDP per capita']\n"
     ]
    },
    {
     "data": {
      "text/html": [
       "<div>\n",
       "<style scoped>\n",
       "    .dataframe tbody tr th:only-of-type {\n",
       "        vertical-align: middle;\n",
       "    }\n",
       "\n",
       "    .dataframe tbody tr th {\n",
       "        vertical-align: top;\n",
       "    }\n",
       "\n",
       "    .dataframe thead th {\n",
       "        text-align: right;\n",
       "    }\n",
       "</style>\n",
       "<table border=\"1\" class=\"dataframe\">\n",
       "  <thead>\n",
       "    <tr style=\"text-align: right;\">\n",
       "      <th></th>\n",
       "      <th>Score</th>\n",
       "      <th>GDP per capita</th>\n",
       "      <th>Social support</th>\n",
       "      <th>Healthy life expectancy</th>\n",
       "      <th>Freedom to make life choices</th>\n",
       "      <th>Generosity</th>\n",
       "      <th>Perceptions of corruption</th>\n",
       "    </tr>\n",
       "  </thead>\n",
       "  <tbody>\n",
       "    <tr>\n",
       "      <th>Score</th>\n",
       "      <td>1.000000</td>\n",
       "      <td>0.793883</td>\n",
       "      <td>0.777058</td>\n",
       "      <td>0.779883</td>\n",
       "      <td>0.566742</td>\n",
       "      <td>0.075824</td>\n",
       "      <td>0.385613</td>\n",
       "    </tr>\n",
       "    <tr>\n",
       "      <th>GDP per capita</th>\n",
       "      <td>0.793883</td>\n",
       "      <td>1.000000</td>\n",
       "      <td>0.754906</td>\n",
       "      <td>0.835462</td>\n",
       "      <td>0.379079</td>\n",
       "      <td>-0.079662</td>\n",
       "      <td>0.298920</td>\n",
       "    </tr>\n",
       "    <tr>\n",
       "      <th>Social support</th>\n",
       "      <td>0.777058</td>\n",
       "      <td>0.754906</td>\n",
       "      <td>1.000000</td>\n",
       "      <td>0.719009</td>\n",
       "      <td>0.447333</td>\n",
       "      <td>-0.048126</td>\n",
       "      <td>0.181899</td>\n",
       "    </tr>\n",
       "    <tr>\n",
       "      <th>Healthy life expectancy</th>\n",
       "      <td>0.779883</td>\n",
       "      <td>0.835462</td>\n",
       "      <td>0.719009</td>\n",
       "      <td>1.000000</td>\n",
       "      <td>0.390395</td>\n",
       "      <td>-0.029511</td>\n",
       "      <td>0.295283</td>\n",
       "    </tr>\n",
       "    <tr>\n",
       "      <th>Freedom to make life choices</th>\n",
       "      <td>0.566742</td>\n",
       "      <td>0.379079</td>\n",
       "      <td>0.447333</td>\n",
       "      <td>0.390395</td>\n",
       "      <td>1.000000</td>\n",
       "      <td>0.269742</td>\n",
       "      <td>0.438843</td>\n",
       "    </tr>\n",
       "    <tr>\n",
       "      <th>Generosity</th>\n",
       "      <td>0.075824</td>\n",
       "      <td>-0.079662</td>\n",
       "      <td>-0.048126</td>\n",
       "      <td>-0.029511</td>\n",
       "      <td>0.269742</td>\n",
       "      <td>1.000000</td>\n",
       "      <td>0.326538</td>\n",
       "    </tr>\n",
       "    <tr>\n",
       "      <th>Perceptions of corruption</th>\n",
       "      <td>0.385613</td>\n",
       "      <td>0.298920</td>\n",
       "      <td>0.181899</td>\n",
       "      <td>0.295283</td>\n",
       "      <td>0.438843</td>\n",
       "      <td>0.326538</td>\n",
       "      <td>1.000000</td>\n",
       "    </tr>\n",
       "  </tbody>\n",
       "</table>\n",
       "</div>"
      ],
      "text/plain": [
       "                                 Score  GDP per capita  Social support  \\\n",
       "Score                         1.000000        0.793883        0.777058   \n",
       "GDP per capita                0.793883        1.000000        0.754906   \n",
       "Social support                0.777058        0.754906        1.000000   \n",
       "Healthy life expectancy       0.779883        0.835462        0.719009   \n",
       "Freedom to make life choices  0.566742        0.379079        0.447333   \n",
       "Generosity                    0.075824       -0.079662       -0.048126   \n",
       "Perceptions of corruption     0.385613        0.298920        0.181899   \n",
       "\n",
       "                              Healthy life expectancy  \\\n",
       "Score                                        0.779883   \n",
       "GDP per capita                               0.835462   \n",
       "Social support                               0.719009   \n",
       "Healthy life expectancy                      1.000000   \n",
       "Freedom to make life choices                 0.390395   \n",
       "Generosity                                  -0.029511   \n",
       "Perceptions of corruption                    0.295283   \n",
       "\n",
       "                              Freedom to make life choices  Generosity  \\\n",
       "Score                                             0.566742    0.075824   \n",
       "GDP per capita                                    0.379079   -0.079662   \n",
       "Social support                                    0.447333   -0.048126   \n",
       "Healthy life expectancy                           0.390395   -0.029511   \n",
       "Freedom to make life choices                      1.000000    0.269742   \n",
       "Generosity                                        0.269742    1.000000   \n",
       "Perceptions of corruption                         0.438843    0.326538   \n",
       "\n",
       "                              Perceptions of corruption  \n",
       "Score                                          0.385613  \n",
       "GDP per capita                                 0.298920  \n",
       "Social support                                 0.181899  \n",
       "Healthy life expectancy                        0.295283  \n",
       "Freedom to make life choices                   0.438843  \n",
       "Generosity                                     0.326538  \n",
       "Perceptions of corruption                      1.000000  "
      ]
     },
     "execution_count": 23,
     "metadata": {},
     "output_type": "execute_result"
    }
   ],
   "source": [
    "pearson_correllation = all_columns.corr()\n",
    "row_col = []\n",
    "data_all = []\n",
    "data_all2 = []\n",
    "\n",
    "for x in range(len_data):\n",
    "    col = file.columns[x+2]\n",
    "    for y in range(len_data):\n",
    "        data = pearson_correllation.iloc[x,y]\n",
    "        row = pearson_correllation.index[y]\n",
    "        data_all.append(data)\n",
    "        data_all2.append(data)\n",
    "        row_col.extend([[col,row]])  \n",
    "        \n",
    "threshold = []\n",
    "for x in range(len(data_all)):\n",
    "    data_all2.sort(reverse=True)\n",
    "    threshold_find = data_all2[x]\n",
    "    if threshold_find < 1:\n",
    "        threshold.append(threshold_find)\n",
    "        break\n",
    "print('\\nnilai threshold = ',threshold)\n",
    "for x in range(len(data_all)):\n",
    "    loc = data_all[x]\n",
    "    threshold_selecteds = threshold[0]\n",
    "    if loc == threshold_selecteds:\n",
    "        print('kolom sangat mempengaruhi happiness score berdasarkan nilai Pearson Correlation',row_col[x])  \n",
    "        \n",
    "row_temp = []\n",
    "col_temp = row_temp\n",
    "data_temp = []\n",
    "for x in range(len_data):\n",
    "    row = file.columns[x+2]\n",
    "    row_temp.append(row)\n",
    "    data_raw = []\n",
    "    for y in range(len_data):\n",
    "        data = pearson_correllation.iloc[x,y]\n",
    "        data_raw.append(data)\n",
    "    data_temp.append(data_raw)\n",
    "pearson_correllation = pd.DataFrame(list(zip(data_temp[0],data_temp[1],data_temp[2],data_temp[3],data_temp[4],data_temp[5],data_temp[6])),columns=col_temp,index=row_temp)\n",
    "pearson_correllation"
   ]
  },
  {
   "cell_type": "markdown",
   "metadata": {},
   "source": [
    "- Fitur/kolom yang sangat mempengaruhi happiness score berdasarkan nilai Spearman Correlation"
   ]
  },
  {
   "cell_type": "code",
   "execution_count": 25,
   "metadata": {},
   "outputs": [
    {
     "name": "stdout",
     "output_type": "stream",
     "text": [
      "\n",
      "nilai threshold =  [0.8515128105565349]\n",
      "kolom sangat mempengaruhi happiness score berdasarkan nilai Spearman Correlation ['GDP per capita', 'Healthy life expectancy']\n",
      "kolom sangat mempengaruhi happiness score berdasarkan nilai Spearman Correlation ['Healthy life expectancy', 'GDP per capita']\n"
     ]
    },
    {
     "data": {
      "text/html": [
       "<div>\n",
       "<style scoped>\n",
       "    .dataframe tbody tr th:only-of-type {\n",
       "        vertical-align: middle;\n",
       "    }\n",
       "\n",
       "    .dataframe tbody tr th {\n",
       "        vertical-align: top;\n",
       "    }\n",
       "\n",
       "    .dataframe thead th {\n",
       "        text-align: right;\n",
       "    }\n",
       "</style>\n",
       "<table border=\"1\" class=\"dataframe\">\n",
       "  <thead>\n",
       "    <tr style=\"text-align: right;\">\n",
       "      <th></th>\n",
       "      <th>Score</th>\n",
       "      <th>GDP per capita</th>\n",
       "      <th>Social support</th>\n",
       "      <th>Healthy life expectancy</th>\n",
       "      <th>Freedom to make life choices</th>\n",
       "      <th>Generosity</th>\n",
       "      <th>Perceptions of corruption</th>\n",
       "    </tr>\n",
       "  </thead>\n",
       "  <tbody>\n",
       "    <tr>\n",
       "      <th>Score</th>\n",
       "      <td>1.000000</td>\n",
       "      <td>0.814483</td>\n",
       "      <td>0.816181</td>\n",
       "      <td>0.807275</td>\n",
       "      <td>0.551974</td>\n",
       "      <td>0.070483</td>\n",
       "      <td>0.217348</td>\n",
       "    </tr>\n",
       "    <tr>\n",
       "      <th>GDP per capita</th>\n",
       "      <td>0.814483</td>\n",
       "      <td>1.000000</td>\n",
       "      <td>0.768539</td>\n",
       "      <td>0.851513</td>\n",
       "      <td>0.393426</td>\n",
       "      <td>-0.041304</td>\n",
       "      <td>0.223203</td>\n",
       "    </tr>\n",
       "    <tr>\n",
       "      <th>Social support</th>\n",
       "      <td>0.816181</td>\n",
       "      <td>0.768539</td>\n",
       "      <td>1.000000</td>\n",
       "      <td>0.725997</td>\n",
       "      <td>0.449491</td>\n",
       "      <td>0.007695</td>\n",
       "      <td>0.114017</td>\n",
       "    </tr>\n",
       "    <tr>\n",
       "      <th>Healthy life expectancy</th>\n",
       "      <td>0.807275</td>\n",
       "      <td>0.851513</td>\n",
       "      <td>0.725997</td>\n",
       "      <td>1.000000</td>\n",
       "      <td>0.412906</td>\n",
       "      <td>-0.006773</td>\n",
       "      <td>0.165309</td>\n",
       "    </tr>\n",
       "    <tr>\n",
       "      <th>Freedom to make life choices</th>\n",
       "      <td>0.551974</td>\n",
       "      <td>0.393426</td>\n",
       "      <td>0.449491</td>\n",
       "      <td>0.412906</td>\n",
       "      <td>1.000000</td>\n",
       "      <td>0.324146</td>\n",
       "      <td>0.403586</td>\n",
       "    </tr>\n",
       "    <tr>\n",
       "      <th>Generosity</th>\n",
       "      <td>0.070483</td>\n",
       "      <td>-0.041304</td>\n",
       "      <td>0.007695</td>\n",
       "      <td>-0.006773</td>\n",
       "      <td>0.324146</td>\n",
       "      <td>1.000000</td>\n",
       "      <td>0.286171</td>\n",
       "    </tr>\n",
       "    <tr>\n",
       "      <th>Perceptions of corruption</th>\n",
       "      <td>0.217348</td>\n",
       "      <td>0.223203</td>\n",
       "      <td>0.114017</td>\n",
       "      <td>0.165309</td>\n",
       "      <td>0.403586</td>\n",
       "      <td>0.286171</td>\n",
       "      <td>1.000000</td>\n",
       "    </tr>\n",
       "  </tbody>\n",
       "</table>\n",
       "</div>"
      ],
      "text/plain": [
       "                                 Score  GDP per capita  Social support  \\\n",
       "Score                         1.000000        0.814483        0.816181   \n",
       "GDP per capita                0.814483        1.000000        0.768539   \n",
       "Social support                0.816181        0.768539        1.000000   \n",
       "Healthy life expectancy       0.807275        0.851513        0.725997   \n",
       "Freedom to make life choices  0.551974        0.393426        0.449491   \n",
       "Generosity                    0.070483       -0.041304        0.007695   \n",
       "Perceptions of corruption     0.217348        0.223203        0.114017   \n",
       "\n",
       "                              Healthy life expectancy  \\\n",
       "Score                                        0.807275   \n",
       "GDP per capita                               0.851513   \n",
       "Social support                               0.725997   \n",
       "Healthy life expectancy                      1.000000   \n",
       "Freedom to make life choices                 0.412906   \n",
       "Generosity                                  -0.006773   \n",
       "Perceptions of corruption                    0.165309   \n",
       "\n",
       "                              Freedom to make life choices  Generosity  \\\n",
       "Score                                             0.551974    0.070483   \n",
       "GDP per capita                                    0.393426   -0.041304   \n",
       "Social support                                    0.449491    0.007695   \n",
       "Healthy life expectancy                           0.412906   -0.006773   \n",
       "Freedom to make life choices                      1.000000    0.324146   \n",
       "Generosity                                        0.324146    1.000000   \n",
       "Perceptions of corruption                         0.403586    0.286171   \n",
       "\n",
       "                              Perceptions of corruption  \n",
       "Score                                          0.217348  \n",
       "GDP per capita                                 0.223203  \n",
       "Social support                                 0.114017  \n",
       "Healthy life expectancy                        0.165309  \n",
       "Freedom to make life choices                   0.403586  \n",
       "Generosity                                     0.286171  \n",
       "Perceptions of corruption                      1.000000  "
      ]
     },
     "execution_count": 25,
     "metadata": {},
     "output_type": "execute_result"
    }
   ],
   "source": [
    "spearman_correlation = all_columns.corr(method='spearman')\n",
    "row_col = []\n",
    "data_all = []\n",
    "data_all2 = []\n",
    "\n",
    "for x in range(len_data):\n",
    "    col = file.columns[x+2]\n",
    "    for y in range(len_data):\n",
    "        data = spearman_correlation.iloc[x,y]\n",
    "        row = spearman_correlation.index[y]\n",
    "        data_all.append(data)\n",
    "        data_all2.append(data)\n",
    "        row_col.extend([[col,row]])  \n",
    "        \n",
    "threshold = []\n",
    "for x in range(len(data_all)):\n",
    "    data_all2.sort(reverse=True)\n",
    "    threshold_find = data_all2[x]\n",
    "    if threshold_find < 1:\n",
    "        threshold.append(threshold_find)\n",
    "        break\n",
    "print('\\nnilai threshold = ',threshold)\n",
    "for x in range(len(data_all)):\n",
    "    loc = data_all[x]\n",
    "    threshold_selecteds = threshold[0]\n",
    "    if loc == threshold_selecteds:\n",
    "        print('kolom sangat mempengaruhi happiness score berdasarkan nilai Spearman Correlation',row_col[x])  \n",
    "        \n",
    "row_temp = []\n",
    "col_temp = row_temp\n",
    "data_temp = []\n",
    "for x in range(len_data):\n",
    "    row = file.columns[x+2]\n",
    "    row_temp.append(row)\n",
    "    data_raw = []\n",
    "    for y in range(len_data):\n",
    "        data = spearman_correlation.iloc[x,y]\n",
    "        data_raw.append(data)\n",
    "    data_temp.append(data_raw)\n",
    "spearman_correlation = pd.DataFrame(list(zip(data_temp[0],data_temp[1],data_temp[2],data_temp[3],data_temp[4],data_temp[5],data_temp[6])),columns=col_temp,index=row_temp)\n",
    "spearman_correlation"
   ]
  },
  {
   "cell_type": "markdown",
   "metadata": {},
   "source": [
    "- Fitur/kolom yang sangat mempengaruhi happiness score berdasarkan nilai Kendall Correlation"
   ]
  },
  {
   "cell_type": "code",
   "execution_count": 26,
   "metadata": {},
   "outputs": [
    {
     "name": "stdout",
     "output_type": "stream",
     "text": [
      "\n",
      "nilai threshold =  [0.6556925207295201]\n",
      "kolom sangat mempengaruhi happiness score berdasarkan nilai Kendall Correlation ['GDP per capita', 'Healthy life expectancy']\n",
      "kolom sangat mempengaruhi happiness score berdasarkan nilai Kendall Correlation ['Healthy life expectancy', 'GDP per capita']\n"
     ]
    },
    {
     "data": {
      "text/html": [
       "<div>\n",
       "<style scoped>\n",
       "    .dataframe tbody tr th:only-of-type {\n",
       "        vertical-align: middle;\n",
       "    }\n",
       "\n",
       "    .dataframe tbody tr th {\n",
       "        vertical-align: top;\n",
       "    }\n",
       "\n",
       "    .dataframe thead th {\n",
       "        text-align: right;\n",
       "    }\n",
       "</style>\n",
       "<table border=\"1\" class=\"dataframe\">\n",
       "  <thead>\n",
       "    <tr style=\"text-align: right;\">\n",
       "      <th></th>\n",
       "      <th>Score</th>\n",
       "      <th>GDP per capita</th>\n",
       "      <th>Social support</th>\n",
       "      <th>Healthy life expectancy</th>\n",
       "      <th>Freedom to make life choices</th>\n",
       "      <th>Generosity</th>\n",
       "      <th>Perceptions of corruption</th>\n",
       "    </tr>\n",
       "  </thead>\n",
       "  <tbody>\n",
       "    <tr>\n",
       "      <th>Score</th>\n",
       "      <td>1.000000</td>\n",
       "      <td>0.619993</td>\n",
       "      <td>0.616792</td>\n",
       "      <td>0.602613</td>\n",
       "      <td>0.394203</td>\n",
       "      <td>0.043759</td>\n",
       "      <td>0.140974</td>\n",
       "    </tr>\n",
       "    <tr>\n",
       "      <th>GDP per capita</th>\n",
       "      <td>0.619993</td>\n",
       "      <td>1.000000</td>\n",
       "      <td>0.569193</td>\n",
       "      <td>0.655693</td>\n",
       "      <td>0.270837</td>\n",
       "      <td>-0.042451</td>\n",
       "      <td>0.135225</td>\n",
       "    </tr>\n",
       "    <tr>\n",
       "      <th>Social support</th>\n",
       "      <td>0.616792</td>\n",
       "      <td>0.569193</td>\n",
       "      <td>1.000000</td>\n",
       "      <td>0.529983</td>\n",
       "      <td>0.319566</td>\n",
       "      <td>0.000746</td>\n",
       "      <td>0.070270</td>\n",
       "    </tr>\n",
       "    <tr>\n",
       "      <th>Healthy life expectancy</th>\n",
       "      <td>0.602613</td>\n",
       "      <td>0.655693</td>\n",
       "      <td>0.529983</td>\n",
       "      <td>1.000000</td>\n",
       "      <td>0.288418</td>\n",
       "      <td>-0.004901</td>\n",
       "      <td>0.106295</td>\n",
       "    </tr>\n",
       "    <tr>\n",
       "      <th>Freedom to make life choices</th>\n",
       "      <td>0.394203</td>\n",
       "      <td>0.270837</td>\n",
       "      <td>0.319566</td>\n",
       "      <td>0.288418</td>\n",
       "      <td>1.000000</td>\n",
       "      <td>0.226187</td>\n",
       "      <td>0.277792</td>\n",
       "    </tr>\n",
       "    <tr>\n",
       "      <th>Generosity</th>\n",
       "      <td>0.043759</td>\n",
       "      <td>-0.042451</td>\n",
       "      <td>0.000746</td>\n",
       "      <td>-0.004901</td>\n",
       "      <td>0.226187</td>\n",
       "      <td>1.000000</td>\n",
       "      <td>0.188933</td>\n",
       "    </tr>\n",
       "    <tr>\n",
       "      <th>Perceptions of corruption</th>\n",
       "      <td>0.140974</td>\n",
       "      <td>0.135225</td>\n",
       "      <td>0.070270</td>\n",
       "      <td>0.106295</td>\n",
       "      <td>0.277792</td>\n",
       "      <td>0.188933</td>\n",
       "      <td>1.000000</td>\n",
       "    </tr>\n",
       "  </tbody>\n",
       "</table>\n",
       "</div>"
      ],
      "text/plain": [
       "                                 Score  GDP per capita  Social support  \\\n",
       "Score                         1.000000        0.619993        0.616792   \n",
       "GDP per capita                0.619993        1.000000        0.569193   \n",
       "Social support                0.616792        0.569193        1.000000   \n",
       "Healthy life expectancy       0.602613        0.655693        0.529983   \n",
       "Freedom to make life choices  0.394203        0.270837        0.319566   \n",
       "Generosity                    0.043759       -0.042451        0.000746   \n",
       "Perceptions of corruption     0.140974        0.135225        0.070270   \n",
       "\n",
       "                              Healthy life expectancy  \\\n",
       "Score                                        0.602613   \n",
       "GDP per capita                               0.655693   \n",
       "Social support                               0.529983   \n",
       "Healthy life expectancy                      1.000000   \n",
       "Freedom to make life choices                 0.288418   \n",
       "Generosity                                  -0.004901   \n",
       "Perceptions of corruption                    0.106295   \n",
       "\n",
       "                              Freedom to make life choices  Generosity  \\\n",
       "Score                                             0.394203    0.043759   \n",
       "GDP per capita                                    0.270837   -0.042451   \n",
       "Social support                                    0.319566    0.000746   \n",
       "Healthy life expectancy                           0.288418   -0.004901   \n",
       "Freedom to make life choices                      1.000000    0.226187   \n",
       "Generosity                                        0.226187    1.000000   \n",
       "Perceptions of corruption                         0.277792    0.188933   \n",
       "\n",
       "                              Perceptions of corruption  \n",
       "Score                                          0.140974  \n",
       "GDP per capita                                 0.135225  \n",
       "Social support                                 0.070270  \n",
       "Healthy life expectancy                        0.106295  \n",
       "Freedom to make life choices                   0.277792  \n",
       "Generosity                                     0.188933  \n",
       "Perceptions of corruption                      1.000000  "
      ]
     },
     "execution_count": 26,
     "metadata": {},
     "output_type": "execute_result"
    }
   ],
   "source": [
    "kendall_correlation = all_columns.corr(method='kendall')\n",
    "row_col = []\n",
    "data_all = []\n",
    "data_all2 = []\n",
    "\n",
    "for x in range(len_data):\n",
    "    col = file.columns[x+2]\n",
    "    for y in range(len_data):\n",
    "        data = kendall_correlation.iloc[x,y]\n",
    "        row = kendall_correlation.index[y]\n",
    "        data_all.append(data)\n",
    "        data_all2.append(data)\n",
    "        row_col.extend([[col,row]])  \n",
    "        \n",
    "threshold = []\n",
    "for x in range(len(data_all)):\n",
    "    data_all2.sort(reverse=True)\n",
    "    threshold_find = data_all2[x]\n",
    "    if threshold_find < 1:\n",
    "        threshold.append(threshold_find)\n",
    "        break\n",
    "print('\\nnilai threshold = ',threshold)\n",
    "for x in range(len(data_all)):\n",
    "    loc = data_all[x]\n",
    "    threshold_selecteds = threshold[0]\n",
    "    if loc == threshold_selecteds:\n",
    "        print('kolom sangat mempengaruhi happiness score berdasarkan nilai Kendall Correlation',row_col[x])  \n",
    "        \n",
    "row_temp = []\n",
    "col_temp = row_temp\n",
    "data_temp = []\n",
    "for x in range(len_data):\n",
    "    row = file.columns[x+2]\n",
    "    row_temp.append(row)\n",
    "    data_raw = []\n",
    "    for y in range(len_data):\n",
    "        data = kendall_correlation.iloc[x,y]\n",
    "        data_raw.append(data)\n",
    "    data_temp.append(data_raw)\n",
    "kendall_correlation = pd.DataFrame(list(zip(data_temp[0],data_temp[1],data_temp[2],data_temp[3],data_temp[4],data_temp[5],data_temp[6])),columns=col_temp,index=row_temp)\n",
    "kendall_correlation"
   ]
  },
  {
   "cell_type": "markdown",
   "metadata": {},
   "source": [
    "Soal"
   ]
  },
  {
   "cell_type": "markdown",
   "metadata": {},
   "source": [
    "5. Visualisasikan dalam bentuk bar chart data berikut:\n",
    "   - 10 Negara dengan GDP per capita tertinggi.\n",
    "   - 10 Negara dengan Healthy life expectancy tertinggi.\n",
    "   - 10 Negara dengan Perceptions of corruption tertinggi."
   ]
  },
  {
   "cell_type": "markdown",
   "metadata": {},
   "source": [
    "Jawaban"
   ]
  },
  {
   "cell_type": "markdown",
   "metadata": {},
   "source": [
    "- Visualisasi 10 Negara dengan GDP per capita tertinggi"
   ]
  },
  {
   "cell_type": "code",
   "execution_count": 27,
   "metadata": {},
   "outputs": [
    {
     "data": {
      "image/png": "[encoded data removed]",
      "text/plain": [
       "<Figure size 2500x500 with 1 Axes>"
      ]
     },
     "metadata": {},
     "output_type": "display_data"
    }
   ],
   "source": [
    "data_gdp_per_capita = file['GDP per capita']\n",
    "sort_data_gdp_per_capita = data_gdp_per_capita.sort_values(ascending=False)\n",
    "row = sort_data_gdp_per_capita.index.tolist()\n",
    "row_index = []\n",
    "high_gdp_per_capita_value = []\n",
    "for x in range(10):\n",
    "    loc_data = sort_data_gdp_per_capita.iloc[x]\n",
    "    loc_row = row[x]\n",
    "    row_index.append(loc_row)\n",
    "    high_gdp_per_capita_value.append(loc_data)\n",
    "column = []\n",
    "for x in row_index:\n",
    "    var = file.iloc[x,1]\n",
    "    column.append(var)\n",
    "highest_10_gdp_per_capita_value = pd.DataFrame(high_gdp_per_capita_value,index=column,columns=['Value'])   \n",
    "fig = plt.figure(figsize =(25, 5))\n",
    "plt.bar(column, high_gdp_per_capita_value)\n",
    "plt.show()"
   ]
  },
  {
   "cell_type": "markdown",
   "metadata": {},
   "source": [
    "- Visualisasi 10 Negara dengan Healthy life expectancy tertinggi"
   ]
  },
  {
   "cell_type": "code",
   "execution_count": 28,
   "metadata": {},
   "outputs": [
    {
     "data": {
      "image/png": "[encoded data removed]",
      "text/plain": [
       "<Figure size 2500x500 with 1 Axes>"
      ]
     },
     "metadata": {},
     "output_type": "display_data"
    }
   ],
   "source": [
    "data_health_life_expectancy = file['Healthy life expectancy']\n",
    "sort_data_health_life_expectancy = data_health_life_expectancy.sort_values(ascending=False)\n",
    "row = sort_data_health_life_expectancy.index.tolist()\n",
    "row_index = []\n",
    "high_data_health_life_expectancy_value = []\n",
    "for x in range(10):\n",
    "    loc_data = sort_data_health_life_expectancy.iloc[x]\n",
    "    loc_row = row[x]\n",
    "    row_index.append(loc_row)\n",
    "    high_data_health_life_expectancy_value.append(loc_data)\n",
    "column = []\n",
    "for x in row_index:\n",
    "    var = file.iloc[x,1]\n",
    "    column.append(var)\n",
    "fig = plt.figure(figsize =(25, 5))\n",
    "plt.bar(column, high_data_health_life_expectancy_value)\n",
    "plt.show()"
   ]
  },
  {
   "cell_type": "markdown",
   "metadata": {},
   "source": [
    "- Visualisasi 10 Negara dengan Perceptions of corruption tertinggi"
   ]
  },
  {
   "cell_type": "code",
   "execution_count": 29,
   "metadata": {},
   "outputs": [
    {
     "data": {
      "image/png": "[encoded data removed]",
      "text/plain": [
       "<Figure size 2500x500 with 1 Axes>"
      ]
     },
     "metadata": {},
     "output_type": "display_data"
    }
   ],
   "source": [
    "data_perception_of_corruption = file['Perceptions of corruption']\n",
    "sort_perception_of_corruption = data_perception_of_corruption.sort_values(ascending=False)\n",
    "row = sort_perception_of_corruption.index.tolist()\n",
    "row_index = []\n",
    "high_perception_of_corruption_value = []\n",
    "for x in range(10):\n",
    "    loc_data = sort_perception_of_corruption.iloc[x]\n",
    "    loc_row = row[x]\n",
    "    row_index.append(loc_row)\n",
    "    high_perception_of_corruption_value.append(loc_data)\n",
    "column = []\n",
    "for x in row_index:\n",
    "    var = file.iloc[x,1]\n",
    "    column.append(var)\n",
    "fig = plt.figure(figsize =(25, 5))\n",
    "plt.bar(column, high_perception_of_corruption_value)\n",
    "plt.show()"
   ]
  },
  {
   "cell_type": "code",
   "execution_count": null,
   "metadata": {},
   "outputs": [],
   "source": []
  }
 ],
 "metadata": {
  "kernelspec": {
   "display_name": "Python 3 (ipykernel)",
   "language": "python",
   "name": "python3"
  },
  "language_info": {
   "codemirror_mode": {
    "name": "ipython",
    "version": 3
   },
   "file_extension": ".py",
   "mimetype": "text/x-python",
   "name": "python",
   "nbconvert_exporter": "python",
   "pygments_lexer": "ipython3",
   "version": "3.9.13"
  }
 },
 "nbformat": 4,
 "nbformat_minor": 2
}
